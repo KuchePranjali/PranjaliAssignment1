{
 "cells": [
  {
   "cell_type": "code",
   "execution_count": 59,
   "id": "eeaab280-c542-4906-b5d5-0356c855d358",
   "metadata": {},
   "outputs": [
    {
     "name": "stdin",
     "output_type": "stream",
     "text": [
      "Enter number 567yhu89oi\n"
     ]
    },
    {
     "name": "stdout",
     "output_type": "stream",
     "text": [
      "56789\n"
     ]
    }
   ],
   "source": [
    "num=list(input(\"Enter number\"))\n",
    "num3=\"\"\n",
    "for i in num:\n",
    "    if i==\"-\":\n",
    "        num3 +=i\n",
    "    if i.isdigit():\n",
    "        num3 +=i\n",
    "int(num3)\n",
    "print(int(num3))"
   ]
  },
  {
   "cell_type": "code",
   "execution_count": 58,
   "id": "733ee64e-bfb2-43b5-9c13-4df4a1ee3e54",
   "metadata": {},
   "outputs": [
    {
     "data": {
      "text/plain": [
       "'C:\\\\Users\\\\Dell\\\\Downloads'"
      ]
     },
     "execution_count": 58,
     "metadata": {},
     "output_type": "execute_result"
    }
   ],
   "source": [
    "pwd"
   ]
  },
  {
   "cell_type": "code",
   "execution_count": null,
   "id": "2e2dcdc3-71d2-4eb6-bd80-7a120c42356d",
   "metadata": {},
   "outputs": [],
   "source": [
    "#Write a python function to find and display the five digit number in which the first digit is two more than \n",
    "#the second,the second digit is two more than the third,the fourth digit is two less than the third, and the \n",
    "#last digit is two more than #the fourth.The sum of the third,fourth and fifth digits equals the first.The sum of all the digits is 19"
   ]
  },
  {
   "cell_type": "code",
   "execution_count": 54,
   "id": "d7c9f24c-4691-408f-abe8-6a7fa6892471",
   "metadata": {},
   "outputs": [
    {
     "name": "stdout",
     "output_type": "stream",
     "text": [
      "75313\n"
     ]
    }
   ],
   "source": [
    "def find_num():\n",
    "    for i in range(9,0,-1):\n",
    "        dig_3=i\n",
    "        dig_2=i+2\n",
    "        dig_1=dig_2+2\n",
    "        dig_4=i-2\n",
    "        dig_5=dig_4+2\n",
    "        if dig_1==dig_3+dig_4+dig_5:\n",
    "            if (dig_1+dig_2+dig_3+dig_4+dig_5)==19:\n",
    "                num=str(dig_1)+str(dig_2)+str(dig_3)+str(dig_4)+str(dig_5)\n",
    "                return(int(num))\n",
    "print(find_num())"
   ]
  }
 ],
 "metadata": {
  "kernelspec": {
   "display_name": "Python 3 (ipykernel)",
   "language": "python",
   "name": "python3"
  },
  "language_info": {
   "codemirror_mode": {
    "name": "ipython",
    "version": 3
   },
   "file_extension": ".py",
   "mimetype": "text/x-python",
   "name": "python",
   "nbconvert_exporter": "python",
   "pygments_lexer": "ipython3",
   "version": "3.11.7"
  }
 },
 "nbformat": 4,
 "nbformat_minor": 5
}
